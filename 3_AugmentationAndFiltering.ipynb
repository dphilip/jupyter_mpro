{
 "cells": [
  {
   "cell_type": "code",
   "execution_count": 2,
   "metadata": {},
   "outputs": [],
   "source": [
    "import pandas as pd\n",
    "import numpy as np\n",
    "import scipy as sp\n",
    "import plotly\n",
    "import plotly.graph_objects as go\n",
    "import plotly.express as px\n",
    "import plotly.io as pio"
   ]
  },
  {
   "cell_type": "code",
   "execution_count": 3,
   "metadata": {},
   "outputs": [
    {
     "name": "stderr",
     "output_type": "stream",
     "text": [
      "RDKit WARNING: [15:13:49] Enabling RDKit 2019.09.3 jupyter extensions\n"
     ]
    }
   ],
   "source": [
    "from IPython.display import SVG\n",
    "from rdkit import Chem\n",
    "from rdkit.Chem import rdDepictor\n",
    "from rdkit.Chem.Draw import rdMolDraw2D\n",
    "from rdkit.Chem import PandasTools\n",
    "from rdkit.Chem import Descriptors"
   ]
  },
  {
   "cell_type": "code",
   "execution_count": 4,
   "metadata": {},
   "outputs": [],
   "source": [
    "# Set the default renderer to png as the data is huge and overwhelms the Javascript renderers\n",
    "pio.renderers.default = 'png'"
   ]
  },
  {
   "cell_type": "markdown",
   "metadata": {},
   "source": [
    "## Generate distances to active site points"
   ]
  },
  {
   "cell_type": "code",
   "execution_count": 29,
   "metadata": {},
   "outputs": [
    {
     "name": "stderr",
     "output_type": "stream",
     "text": [
      "XChem distances args:  Namespace(input='Mpro_16_data.sdf.gz', outfile='Mpro_16_data_dist.sdf', points='points.txt')\n",
      "Read points ['5.655', '1.497', '18.223']\n",
      "Read points ['1.494', '-8.367', '18.574']\n",
      "Read points ['13.034', '6.306', '25.232']\n",
      "Read points ['8.543', '-0.647', '20.479']\n",
      "Read points ['14.208', '5.879', '21.170']\n",
      "Read points ['13.698', '-1.733', '22.648']\n",
      "Read points ['5.425', '-5.764', '22.061']\n",
      "Read points ['6.962', '-6.805', '29.414']\n",
      "Found 8 atom points\n",
      "Wrote 41582 molecules\n"
     ]
    }
   ],
   "source": [
    "# Run distance_finder.py to add distances to the points defined in points.txt\n",
    "# This only needs doing once!\n",
    "\n",
    "%run distance_finder.py -i Mpro_16_data.sdf.gz -p points.txt -o Mpro_16_data_dist.sdf"
   ]
  },
  {
   "cell_type": "markdown",
   "metadata": {},
   "source": [
    "## Read the data frame"
   ]
  },
  {
   "cell_type": "code",
   "execution_count": 30,
   "metadata": {},
   "outputs": [
    {
     "data": {
      "text/plain": [
       "(41582, 21)"
      ]
     },
     "execution_count": 30,
     "metadata": {},
     "output_type": "execute_result"
    }
   ],
   "source": [
    "# Currently can't work out how to read the pickle correctly so we read the SDF instead\n",
    "df = PandasTools.LoadSDF('./Mpro_16_data_dist.sdf', molColName='Molecule')\n",
    "df.shape"
   ]
  },
  {
   "cell_type": "code",
   "execution_count": 31,
   "metadata": {},
   "outputs": [
    {
     "data": {
      "text/plain": [
       "Target                        object\n",
       "TransFSScore                  object\n",
       "SCORE                         object\n",
       "SCORE.norm                    object\n",
       "Max_SuCOS_Score               object\n",
       "Max_SuCOS_FeatureMap_Score    object\n",
       "Max_SuCOS_Protrude_Score      object\n",
       "Max_SuCOS_Index               object\n",
       "Cum_SuCOS_Score               object\n",
       "Cum_SuCOS_FeatureMap_Score    object\n",
       "Cum_SuCOS_Protrude_Score      object\n",
       "distance1                     object\n",
       "distance2                     object\n",
       "distance3                     object\n",
       "distance4                     object\n",
       "distance5                     object\n",
       "distance6                     object\n",
       "distance7                     object\n",
       "distance8                     object\n",
       "ID                            object\n",
       "Molecule                      object\n",
       "dtype: object"
      ]
     },
     "execution_count": 31,
     "metadata": {},
     "output_type": "execute_result"
    }
   ],
   "source": [
    "df.dtypes"
   ]
  },
  {
   "cell_type": "markdown",
   "metadata": {},
   "source": [
    "## Fix column types and names"
   ]
  },
  {
   "cell_type": "code",
   "execution_count": 32,
   "metadata": {},
   "outputs": [],
   "source": [
    "# So we need to fix all the column types again!\n",
    "\n",
    "df = df.astype(dtype= {\n",
    "    \"Cum_SuCOS_FeatureMap_Score\":\"float64\",\n",
    "    \"Cum_SuCOS_Protrude_Score\":\"float64\",\n",
    "    \"Cum_SuCOS_Score\":\"float64\",\n",
    "    \"Max_SuCOS_Index\":\"float64\",\n",
    "    \"Max_SuCOS_FeatureMap_Score\":\"float64\",\n",
    "    \"Max_SuCOS_Protrude_Score\":\"float64\",\n",
    "    \"Max_SuCOS_Score\":\"float64\",\n",
    "    \"SCORE\":\"float64\",\n",
    "    \"SCORE.norm\":\"float64\",\n",
    "    \"TransFSScore\":\"float64\",\n",
    "    \"distance1\":\"float64\",\n",
    "    \"distance2\":\"float64\",\n",
    "    \"distance3\":\"float64\",\n",
    "    \"distance4\":\"float64\",\n",
    "    \"distance5\":\"float64\",\n",
    "    \"distance6\":\"float64\",\n",
    "    \"distance7\":\"float64\",\n",
    "    \"distance8\":\"float64\"\n",
    "})\n",
    "df =  df.astype(dtype= {\n",
    "    \"Max_SuCOS_Index\":\"int64\",\n",
    "})\n",
    "\n",
    "df = df.rename(columns={\"ID\": \"NSMILES\"})\n"
   ]
  },
  {
   "cell_type": "code",
   "execution_count": 33,
   "metadata": {},
   "outputs": [],
   "source": [
    "# This methods provides a simple way to re-order columns.\n",
    "# See https://towardsdatascience.com/reordering-pandas-dataframe-columns-thumbs-down-on-standard-solutions-1ff0bc2941d5\n",
    "\n",
    "def movecol(df, cols_to_move=[], ref_col='', place='After'):\n",
    "    \n",
    "    cols = df.columns.tolist()\n",
    "    if place == 'After':\n",
    "        seg1 = cols[:list(cols).index(ref_col) + 1]\n",
    "        seg2 = cols_to_move\n",
    "    if place == 'Before':\n",
    "        seg1 = cols[:list(cols).index(ref_col)]\n",
    "        seg2 = cols_to_move + [ref_col]\n",
    "    \n",
    "    seg1 = [i for i in seg1 if i not in seg2]\n",
    "    seg3 = [i for i in cols if i not in seg1 + seg2]\n",
    "    \n",
    "    return(df[seg1 + seg2 + seg3])"
   ]
  },
  {
   "cell_type": "code",
   "execution_count": 34,
   "metadata": {},
   "outputs": [],
   "source": [
    "# Re-order colums to be more friendly\n",
    "\n",
    "df = movecol(df, \n",
    "             cols_to_move=['NSMILES','Molecule','Target'], \n",
    "             ref_col='TransFSScore',\n",
    "             place='Before')"
   ]
  },
  {
   "cell_type": "code",
   "execution_count": 35,
   "metadata": {},
   "outputs": [
    {
     "data": {
      "image/png": "[encoded data removed]"
     },
     "metadata": {},
     "output_type": "display_data"
    }
   ],
   "source": [
    "# plot all distance dsitributions\n",
    "\n",
    "fig = go.Figure()\n",
    "for i in range(1,9):\n",
    "    k = \"distance\" + str(i)\n",
    "    xs = []\n",
    "    for i in range(500):\n",
    "        xs.append(k)\n",
    "    fig.add_trace(go.Box(x=xs, y=df[k], showlegend=False))\n",
    "fig.show()"
   ]
  },
  {
   "cell_type": "code",
   "execution_count": 36,
   "metadata": {},
   "outputs": [
    {
     "data": {
      "image/png": "[encoded data removed]"
     },
     "metadata": {},
     "output_type": "display_data"
    }
   ],
   "source": [
    "# the same as a violin plot\n",
    "\n",
    "fig = go.Figure()\n",
    "for i in range(1,9):\n",
    "    k = \"distance\" + str(i)\n",
    "    xs = []\n",
    "    for i in range(500):\n",
    "        xs.append(k)\n",
    "    fig.add_trace(go.Violin(x=xs, y=df[k], showlegend=False))\n",
    "fig.show()"
   ]
  },
  {
   "cell_type": "markdown",
   "metadata": {},
   "source": [
    "Nothing is close to site 2.\n",
    "\n",
    "Site 8 is poorly occupied."
   ]
  },
  {
   "cell_type": "markdown",
   "metadata": {},
   "source": [
    "## Calculate molecular properties"
   ]
  },
  {
   "cell_type": "code",
   "execution_count": 37,
   "metadata": {},
   "outputs": [],
   "source": [
    "df['logP'] = df['Molecule'].apply(lambda mol: Descriptors.MolLogP(mol))\n",
    "df['rotb'] = df['Molecule'].apply(lambda mol: Chem.rdMolDescriptors.CalcNumRotatableBonds(mol))"
   ]
  },
  {
   "cell_type": "code",
   "execution_count": 38,
   "metadata": {},
   "outputs": [
    {
     "data": {
      "text/plain": [
       "NSMILES                        object\n",
       "Molecule                       object\n",
       "Target                         object\n",
       "TransFSScore                  float64\n",
       "SCORE                         float64\n",
       "SCORE.norm                    float64\n",
       "Max_SuCOS_Score               float64\n",
       "Max_SuCOS_FeatureMap_Score    float64\n",
       "Max_SuCOS_Protrude_Score      float64\n",
       "Max_SuCOS_Index                 int64\n",
       "Cum_SuCOS_Score               float64\n",
       "Cum_SuCOS_FeatureMap_Score    float64\n",
       "Cum_SuCOS_Protrude_Score      float64\n",
       "distance1                     float64\n",
       "distance2                     float64\n",
       "distance3                     float64\n",
       "distance4                     float64\n",
       "distance5                     float64\n",
       "distance6                     float64\n",
       "distance7                     float64\n",
       "distance8                     float64\n",
       "logP                          float64\n",
       "rotb                            int64\n",
       "dtype: object"
      ]
     },
     "execution_count": 38,
     "metadata": {},
     "output_type": "execute_result"
    }
   ],
   "source": [
    "df.dtypes"
   ]
  },
  {
   "cell_type": "code",
   "execution_count": 39,
   "metadata": {},
   "outputs": [
    {
     "data": {
      "image/png": "[encoded data removed]"
     },
     "metadata": {},
     "output_type": "display_data"
    }
   ],
   "source": [
    "# Look at the logP distribution\n",
    "fig = px.box(df, y=\"logP\")\n",
    "fig.show()\n",
    "# looks quite reasonable. We won't need to filter on logP"
   ]
  },
  {
   "cell_type": "code",
   "execution_count": 40,
   "metadata": {},
   "outputs": [
    {
     "data": {
      "image/png": "[encoded data removed]"
     },
     "metadata": {},
     "output_type": "display_data"
    }
   ],
   "source": [
    "fig = px.histogram(df, x=\"rotb\")\n",
    "fig.show()\n",
    "# a few with lots of rot bonds, but care needed as different tools have different ideas of what is a rotatable bond.\n",
    "# Maybe we should filter out the highest."
   ]
  },
  {
   "cell_type": "markdown",
   "metadata": {},
   "source": [
    "## Incorporate data from Enalos"
   ]
  },
  {
   "cell_type": "code",
   "execution_count": 41,
   "metadata": {},
   "outputs": [
    {
     "name": "stderr",
     "output_type": "stream",
     "text": [
      "/home/timbo/miniconda3/envs/jupyter-xchem/lib/python3.8/site-packages/IPython/core/interactiveshell.py:3062: DtypeWarning:\n",
      "\n",
      "Columns (0,15) have mixed types.Specify dtype option on import or set low_memory=False.\n",
      "\n"
     ]
    },
    {
     "data": {
      "text/plain": [
       "ID                              object\n",
       "Original SMILES                 object\n",
       "SMILES                          object\n",
       "InChI                           object\n",
       "InChIkey                        object\n",
       "Cytotoxicity_Classification     object\n",
       "Cytotoxicity_Prediction         object\n",
       "MSlogBCF_Regression            float64\n",
       "MSlogBCF_Prediction             object\n",
       "MSlogBP_Regression             float64\n",
       "MSlogBP_Prediction              object\n",
       "MSlogP_Regression              float64\n",
       "MSlogP_Prediction               object\n",
       "MSlogS_Regression              float64\n",
       "MSlogS_Prediction               object\n",
       "MSlogVP_Regression              object\n",
       "MSlogVP_Prediction              object\n",
       "Mutagenicity_Classification     object\n",
       "Mutagenicity_Prediction         object\n",
       "dtype: object"
      ]
     },
     "execution_count": 41,
     "metadata": {},
     "output_type": "execute_result"
    }
   ],
   "source": [
    "df_enalos = pd.read_csv('Enalos_data_41k.csv.gz')\n",
    "df_enalos.dtypes"
   ]
  },
  {
   "cell_type": "code",
   "execution_count": 42,
   "metadata": {},
   "outputs": [
    {
     "data": {
      "text/html": [
       "<div>\n",
       "<style scoped>\n",
       "    .dataframe tbody tr th:only-of-type {\n",
       "        vertical-align: middle;\n",
       "    }\n",
       "\n",
       "    .dataframe tbody tr th {\n",
       "        vertical-align: top;\n",
       "    }\n",
       "\n",
       "    .dataframe thead th {\n",
       "        text-align: right;\n",
       "    }\n",
       "</style>\n",
       "<table border=\"1\" class=\"dataframe\">\n",
       "  <thead>\n",
       "    <tr style=\"text-align: right;\">\n",
       "      <th></th>\n",
       "      <th>Original SMILES</th>\n",
       "      <th>Cytotoxicity_Classification</th>\n",
       "      <th>Cytotoxicity_Prediction</th>\n",
       "      <th>MSlogBCF_Regression</th>\n",
       "      <th>MSlogBCF_Prediction</th>\n",
       "      <th>MSlogBP_Regression</th>\n",
       "      <th>MSlogBP_Prediction</th>\n",
       "      <th>MSlogP_Regression</th>\n",
       "      <th>MSlogP_Prediction</th>\n",
       "      <th>MSlogS_Regression</th>\n",
       "      <th>MSlogS_Prediction</th>\n",
       "      <th>MSlogVP_Regression</th>\n",
       "      <th>MSlogVP_Prediction</th>\n",
       "      <th>Mutagenicity_Classification</th>\n",
       "      <th>Mutagenicity_Prediction</th>\n",
       "    </tr>\n",
       "  </thead>\n",
       "  <tbody>\n",
       "    <tr>\n",
       "      <th>0</th>\n",
       "      <td>CC(C)(O)CCS(=O)(=O)c1ccccc1</td>\n",
       "      <td>\"active\"</td>\n",
       "      <td>reliable</td>\n",
       "      <td>0.337194</td>\n",
       "      <td>reliable</td>\n",
       "      <td>315.273454</td>\n",
       "      <td>reliable</td>\n",
       "      <td>1.288348</td>\n",
       "      <td>reliable</td>\n",
       "      <td>-1.753877</td>\n",
       "      <td>reliable</td>\n",
       "      <td>-3.55441895038197</td>\n",
       "      <td>reliable</td>\n",
       "      <td>\"negative\"</td>\n",
       "      <td>reliable</td>\n",
       "    </tr>\n",
       "    <tr>\n",
       "      <th>1</th>\n",
       "      <td>CC(N)c1ccc2c(c1)CCCN2C</td>\n",
       "      <td>\"inactive\"</td>\n",
       "      <td>reliable</td>\n",
       "      <td>1.072827</td>\n",
       "      <td>reliable</td>\n",
       "      <td>288.812615</td>\n",
       "      <td>reliable</td>\n",
       "      <td>2.075917</td>\n",
       "      <td>reliable</td>\n",
       "      <td>-2.827659</td>\n",
       "      <td>reliable</td>\n",
       "      <td>-4.97036917333429</td>\n",
       "      <td>reliable</td>\n",
       "      <td>\"positive\"</td>\n",
       "      <td>reliable</td>\n",
       "    </tr>\n",
       "    <tr>\n",
       "      <th>2</th>\n",
       "      <td>COC(=O)c1ccc(CNC(=O)OC(C)(C)C)cc1</td>\n",
       "      <td>\"inactive\"</td>\n",
       "      <td>reliable</td>\n",
       "      <td>1.076757</td>\n",
       "      <td>reliable</td>\n",
       "      <td>334.300719</td>\n",
       "      <td>reliable</td>\n",
       "      <td>2.908128</td>\n",
       "      <td>reliable</td>\n",
       "      <td>-3.258006</td>\n",
       "      <td>reliable</td>\n",
       "      <td>-4.40141991036807</td>\n",
       "      <td>reliable</td>\n",
       "      <td>\"negative\"</td>\n",
       "      <td>reliable</td>\n",
       "    </tr>\n",
       "    <tr>\n",
       "      <th>3</th>\n",
       "      <td>N#Cc1ccc(NC(=O)C#CCN)nc1</td>\n",
       "      <td>\"inactive\"</td>\n",
       "      <td>reliable</td>\n",
       "      <td>0.949516</td>\n",
       "      <td>reliable</td>\n",
       "      <td>268.194044</td>\n",
       "      <td>reliable</td>\n",
       "      <td>-0.072523</td>\n",
       "      <td>reliable</td>\n",
       "      <td>-2.347972</td>\n",
       "      <td>reliable</td>\n",
       "      <td>-8.5220678228413</td>\n",
       "      <td>reliable</td>\n",
       "      <td>\"negative\"</td>\n",
       "      <td>reliable</td>\n",
       "    </tr>\n",
       "    <tr>\n",
       "      <th>4</th>\n",
       "      <td>O=C(c1ccccn1)N(CC(F)F)c1ccccc1</td>\n",
       "      <td>\"active\"</td>\n",
       "      <td>reliable</td>\n",
       "      <td>1.088311</td>\n",
       "      <td>reliable</td>\n",
       "      <td>335.180534</td>\n",
       "      <td>reliable</td>\n",
       "      <td>3.050777</td>\n",
       "      <td>reliable</td>\n",
       "      <td>-3.134865</td>\n",
       "      <td>reliable</td>\n",
       "      <td>-4.92564397803783</td>\n",
       "      <td>reliable</td>\n",
       "      <td>\"positive\"</td>\n",
       "      <td>reliable</td>\n",
       "    </tr>\n",
       "  </tbody>\n",
       "</table>\n",
       "</div>"
      ],
      "text/plain": [
       "                     Original SMILES Cytotoxicity_Classification  \\\n",
       "0        CC(C)(O)CCS(=O)(=O)c1ccccc1                    \"active\"   \n",
       "1             CC(N)c1ccc2c(c1)CCCN2C                  \"inactive\"   \n",
       "2  COC(=O)c1ccc(CNC(=O)OC(C)(C)C)cc1                  \"inactive\"   \n",
       "3           N#Cc1ccc(NC(=O)C#CCN)nc1                  \"inactive\"   \n",
       "4     O=C(c1ccccn1)N(CC(F)F)c1ccccc1                    \"active\"   \n",
       "\n",
       "  Cytotoxicity_Prediction  MSlogBCF_Regression MSlogBCF_Prediction  \\\n",
       "0                reliable             0.337194            reliable   \n",
       "1                reliable             1.072827            reliable   \n",
       "2                reliable             1.076757            reliable   \n",
       "3                reliable             0.949516            reliable   \n",
       "4                reliable             1.088311            reliable   \n",
       "\n",
       "   MSlogBP_Regression MSlogBP_Prediction  MSlogP_Regression MSlogP_Prediction  \\\n",
       "0          315.273454           reliable           1.288348          reliable   \n",
       "1          288.812615           reliable           2.075917          reliable   \n",
       "2          334.300719           reliable           2.908128          reliable   \n",
       "3          268.194044           reliable          -0.072523          reliable   \n",
       "4          335.180534           reliable           3.050777          reliable   \n",
       "\n",
       "   MSlogS_Regression MSlogS_Prediction MSlogVP_Regression MSlogVP_Prediction  \\\n",
       "0          -1.753877          reliable  -3.55441895038197           reliable   \n",
       "1          -2.827659          reliable  -4.97036917333429           reliable   \n",
       "2          -3.258006          reliable  -4.40141991036807           reliable   \n",
       "3          -2.347972          reliable   -8.5220678228413           reliable   \n",
       "4          -3.134865          reliable  -4.92564397803783           reliable   \n",
       "\n",
       "  Mutagenicity_Classification Mutagenicity_Prediction  \n",
       "0                  \"negative\"                reliable  \n",
       "1                  \"positive\"                reliable  \n",
       "2                  \"negative\"                reliable  \n",
       "3                  \"negative\"                reliable  \n",
       "4                  \"positive\"                reliable  "
      ]
     },
     "execution_count": 42,
     "metadata": {},
     "output_type": "execute_result"
    }
   ],
   "source": [
    "df_enalos = df_enalos.drop(columns=['ID','SMILES', 'InChI', 'InChIkey'])\n",
    "df_enalos.head()"
   ]
  },
  {
   "cell_type": "code",
   "execution_count": 43,
   "metadata": {},
   "outputs": [
    {
     "data": {
      "text/plain": [
       "Original SMILES                 object\n",
       "Cytotoxicity_Classification     object\n",
       "Cytotoxicity_Prediction         object\n",
       "MSlogBCF_Regression            float64\n",
       "MSlogBCF_Prediction             object\n",
       "MSlogBP_Regression             float64\n",
       "MSlogBP_Prediction              object\n",
       "MSlogP_Regression              float64\n",
       "MSlogP_Prediction               object\n",
       "MSlogS_Regression              float64\n",
       "MSlogS_Prediction               object\n",
       "MSlogVP_Regression              object\n",
       "MSlogVP_Prediction              object\n",
       "Mutagenicity_Classification     object\n",
       "Mutagenicity_Prediction         object\n",
       "cytotox_bool                      bool\n",
       "mutagen_bool                      bool\n",
       "dtype: object"
      ]
     },
     "execution_count": 43,
     "metadata": {},
     "output_type": "execute_result"
    }
   ],
   "source": [
    "# Genrete bool columns for cytogenicity and mutagenicity where the prediction is reliable.\n",
    "# Note that the values in the Cytotoxicity_Classification and Mutagenicity_Classification columns\n",
    "# have double quotes around them. This is probably an artifact of how they were imported.\n",
    "\n",
    "df_enalos['cytotox_bool'] = (df_enalos['Cytotoxicity_Classification'] == '\"active\"') & (df_enalos['Cytotoxicity_Prediction'] == 'reliable')\n",
    "df_enalos['mutagen_bool'] = (df_enalos['Mutagenicity_Classification'] == '\"positive\"') & (df_enalos['Mutagenicity_Prediction'] == 'reliable')\n",
    "df_enalos.dtypes"
   ]
  },
  {
   "cell_type": "code",
   "execution_count": 44,
   "metadata": {},
   "outputs": [
    {
     "data": {
      "text/html": [
       "<div>\n",
       "<style scoped>\n",
       "    .dataframe tbody tr th:only-of-type {\n",
       "        vertical-align: middle;\n",
       "    }\n",
       "\n",
       "    .dataframe tbody tr th {\n",
       "        vertical-align: top;\n",
       "    }\n",
       "\n",
       "    .dataframe thead th {\n",
       "        text-align: right;\n",
       "    }\n",
       "</style>\n",
       "<table border=\"1\" class=\"dataframe\">\n",
       "  <thead>\n",
       "    <tr style=\"text-align: right;\">\n",
       "      <th></th>\n",
       "      <th>Original SMILES</th>\n",
       "      <th>Cytotoxicity_Classification</th>\n",
       "      <th>Cytotoxicity_Prediction</th>\n",
       "      <th>MSlogBCF_Regression</th>\n",
       "      <th>MSlogBCF_Prediction</th>\n",
       "      <th>MSlogBP_Regression</th>\n",
       "      <th>MSlogBP_Prediction</th>\n",
       "      <th>MSlogP_Regression</th>\n",
       "      <th>MSlogP_Prediction</th>\n",
       "      <th>MSlogS_Regression</th>\n",
       "      <th>MSlogS_Prediction</th>\n",
       "      <th>MSlogVP_Regression</th>\n",
       "      <th>MSlogVP_Prediction</th>\n",
       "      <th>Mutagenicity_Classification</th>\n",
       "      <th>Mutagenicity_Prediction</th>\n",
       "      <th>cytotox_bool</th>\n",
       "      <th>mutagen_bool</th>\n",
       "    </tr>\n",
       "  </thead>\n",
       "  <tbody>\n",
       "    <tr>\n",
       "      <th>0</th>\n",
       "      <td>CC(C)(O)CCS(=O)(=O)c1ccccc1</td>\n",
       "      <td>\"active\"</td>\n",
       "      <td>reliable</td>\n",
       "      <td>0.337194</td>\n",
       "      <td>reliable</td>\n",
       "      <td>315.273454</td>\n",
       "      <td>reliable</td>\n",
       "      <td>1.288348</td>\n",
       "      <td>reliable</td>\n",
       "      <td>-1.753877</td>\n",
       "      <td>reliable</td>\n",
       "      <td>-3.55441895038197</td>\n",
       "      <td>reliable</td>\n",
       "      <td>\"negative\"</td>\n",
       "      <td>reliable</td>\n",
       "      <td>True</td>\n",
       "      <td>False</td>\n",
       "    </tr>\n",
       "    <tr>\n",
       "      <th>1</th>\n",
       "      <td>CC(N)c1ccc2c(c1)CCCN2C</td>\n",
       "      <td>\"inactive\"</td>\n",
       "      <td>reliable</td>\n",
       "      <td>1.072827</td>\n",
       "      <td>reliable</td>\n",
       "      <td>288.812615</td>\n",
       "      <td>reliable</td>\n",
       "      <td>2.075917</td>\n",
       "      <td>reliable</td>\n",
       "      <td>-2.827659</td>\n",
       "      <td>reliable</td>\n",
       "      <td>-4.97036917333429</td>\n",
       "      <td>reliable</td>\n",
       "      <td>\"positive\"</td>\n",
       "      <td>reliable</td>\n",
       "      <td>False</td>\n",
       "      <td>True</td>\n",
       "    </tr>\n",
       "    <tr>\n",
       "      <th>2</th>\n",
       "      <td>COC(=O)c1ccc(CNC(=O)OC(C)(C)C)cc1</td>\n",
       "      <td>\"inactive\"</td>\n",
       "      <td>reliable</td>\n",
       "      <td>1.076757</td>\n",
       "      <td>reliable</td>\n",
       "      <td>334.300719</td>\n",
       "      <td>reliable</td>\n",
       "      <td>2.908128</td>\n",
       "      <td>reliable</td>\n",
       "      <td>-3.258006</td>\n",
       "      <td>reliable</td>\n",
       "      <td>-4.40141991036807</td>\n",
       "      <td>reliable</td>\n",
       "      <td>\"negative\"</td>\n",
       "      <td>reliable</td>\n",
       "      <td>False</td>\n",
       "      <td>False</td>\n",
       "    </tr>\n",
       "    <tr>\n",
       "      <th>3</th>\n",
       "      <td>N#Cc1ccc(NC(=O)C#CCN)nc1</td>\n",
       "      <td>\"inactive\"</td>\n",
       "      <td>reliable</td>\n",
       "      <td>0.949516</td>\n",
       "      <td>reliable</td>\n",
       "      <td>268.194044</td>\n",
       "      <td>reliable</td>\n",
       "      <td>-0.072523</td>\n",
       "      <td>reliable</td>\n",
       "      <td>-2.347972</td>\n",
       "      <td>reliable</td>\n",
       "      <td>-8.5220678228413</td>\n",
       "      <td>reliable</td>\n",
       "      <td>\"negative\"</td>\n",
       "      <td>reliable</td>\n",
       "      <td>False</td>\n",
       "      <td>False</td>\n",
       "    </tr>\n",
       "    <tr>\n",
       "      <th>4</th>\n",
       "      <td>O=C(c1ccccn1)N(CC(F)F)c1ccccc1</td>\n",
       "      <td>\"active\"</td>\n",
       "      <td>reliable</td>\n",
       "      <td>1.088311</td>\n",
       "      <td>reliable</td>\n",
       "      <td>335.180534</td>\n",
       "      <td>reliable</td>\n",
       "      <td>3.050777</td>\n",
       "      <td>reliable</td>\n",
       "      <td>-3.134865</td>\n",
       "      <td>reliable</td>\n",
       "      <td>-4.92564397803783</td>\n",
       "      <td>reliable</td>\n",
       "      <td>\"positive\"</td>\n",
       "      <td>reliable</td>\n",
       "      <td>True</td>\n",
       "      <td>True</td>\n",
       "    </tr>\n",
       "  </tbody>\n",
       "</table>\n",
       "</div>"
      ],
      "text/plain": [
       "                     Original SMILES Cytotoxicity_Classification  \\\n",
       "0        CC(C)(O)CCS(=O)(=O)c1ccccc1                    \"active\"   \n",
       "1             CC(N)c1ccc2c(c1)CCCN2C                  \"inactive\"   \n",
       "2  COC(=O)c1ccc(CNC(=O)OC(C)(C)C)cc1                  \"inactive\"   \n",
       "3           N#Cc1ccc(NC(=O)C#CCN)nc1                  \"inactive\"   \n",
       "4     O=C(c1ccccn1)N(CC(F)F)c1ccccc1                    \"active\"   \n",
       "\n",
       "  Cytotoxicity_Prediction  MSlogBCF_Regression MSlogBCF_Prediction  \\\n",
       "0                reliable             0.337194            reliable   \n",
       "1                reliable             1.072827            reliable   \n",
       "2                reliable             1.076757            reliable   \n",
       "3                reliable             0.949516            reliable   \n",
       "4                reliable             1.088311            reliable   \n",
       "\n",
       "   MSlogBP_Regression MSlogBP_Prediction  MSlogP_Regression MSlogP_Prediction  \\\n",
       "0          315.273454           reliable           1.288348          reliable   \n",
       "1          288.812615           reliable           2.075917          reliable   \n",
       "2          334.300719           reliable           2.908128          reliable   \n",
       "3          268.194044           reliable          -0.072523          reliable   \n",
       "4          335.180534           reliable           3.050777          reliable   \n",
       "\n",
       "   MSlogS_Regression MSlogS_Prediction MSlogVP_Regression MSlogVP_Prediction  \\\n",
       "0          -1.753877          reliable  -3.55441895038197           reliable   \n",
       "1          -2.827659          reliable  -4.97036917333429           reliable   \n",
       "2          -3.258006          reliable  -4.40141991036807           reliable   \n",
       "3          -2.347972          reliable   -8.5220678228413           reliable   \n",
       "4          -3.134865          reliable  -4.92564397803783           reliable   \n",
       "\n",
       "  Mutagenicity_Classification Mutagenicity_Prediction  cytotox_bool  \\\n",
       "0                  \"negative\"                reliable          True   \n",
       "1                  \"positive\"                reliable         False   \n",
       "2                  \"negative\"                reliable         False   \n",
       "3                  \"negative\"                reliable         False   \n",
       "4                  \"positive\"                reliable          True   \n",
       "\n",
       "   mutagen_bool  \n",
       "0         False  \n",
       "1          True  \n",
       "2         False  \n",
       "3         False  \n",
       "4          True  "
      ]
     },
     "execution_count": 44,
     "metadata": {},
     "output_type": "execute_result"
    }
   ],
   "source": [
    "df_enalos.head()"
   ]
  },
  {
   "cell_type": "code",
   "execution_count": 62,
   "metadata": {},
   "outputs": [
    {
     "data": {
      "text/html": [
       "<div>\n",
       "<style scoped>\n",
       "    .dataframe tbody tr th:only-of-type {\n",
       "        vertical-align: middle;\n",
       "    }\n",
       "\n",
       "    .dataframe tbody tr th {\n",
       "        vertical-align: top;\n",
       "    }\n",
       "\n",
       "    .dataframe thead th {\n",
       "        text-align: right;\n",
       "    }\n",
       "</style>\n",
       "<table border=\"1\" class=\"dataframe\">\n",
       "  <thead>\n",
       "    <tr style=\"text-align: right;\">\n",
       "      <th></th>\n",
       "      <th>NSMILES</th>\n",
       "      <th>Molecule</th>\n",
       "      <th>Target</th>\n",
       "      <th>TransFSScore</th>\n",
       "      <th>SCORE</th>\n",
       "      <th>SCORE.norm</th>\n",
       "      <th>Max_SuCOS_Score</th>\n",
       "      <th>Max_SuCOS_FeatureMap_Score</th>\n",
       "      <th>Max_SuCOS_Protrude_Score</th>\n",
       "      <th>Max_SuCOS_Index</th>\n",
       "      <th>...</th>\n",
       "      <th>MSlogP_Regression</th>\n",
       "      <th>MSlogP_Prediction</th>\n",
       "      <th>MSlogS_Regression</th>\n",
       "      <th>MSlogS_Prediction</th>\n",
       "      <th>MSlogVP_Regression</th>\n",
       "      <th>MSlogVP_Prediction</th>\n",
       "      <th>Mutagenicity_Classification</th>\n",
       "      <th>Mutagenicity_Prediction</th>\n",
       "      <th>cytotox_bool</th>\n",
       "      <th>mutagen_bool</th>\n",
       "    </tr>\n",
       "  </thead>\n",
       "  <tbody>\n",
       "    <tr>\n",
       "      <th>0</th>\n",
       "      <td>BrC(Br)=Cc1ccc(Br)cc1</td>\n",
       "      <td><img data-content=\"rdkit/molecule\" src=\"data:image/png;base64,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\" alt=\"Mol\"/></td>\n",
       "      <td>Mpro-x0678</td>\n",
       "      <td>0.162173</td>\n",
       "      <td>-14.4733</td>\n",
       "      <td>-1.31576</td>\n",
       "      <td>0.000000</td>\n",
       "      <td>0.000000</td>\n",
       "      <td>0.000000</td>\n",
       "      <td>0</td>\n",
       "      <td>...</td>\n",
       "      <td>3.163015</td>\n",
       "      <td>reliable</td>\n",
       "      <td>-3.555276</td>\n",
       "      <td>reliable</td>\n",
       "      <td>-2.62715</td>\n",
       "      <td>reliable</td>\n",
       "      <td>\"positive\"</td>\n",
       "      <td>reliable</td>\n",
       "      <td>False</td>\n",
       "      <td>True</td>\n",
       "    </tr>\n",
       "    <tr>\n",
       "      <th>1</th>\n",
       "      <td>BrC(Br)=Cc1ccncn1</td>\n",
       "      <td><img data-content=\"rdkit/molecule\" src=\"data:image/png;base64,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\" alt=\"Mol\"/></td>\n",
       "      <td>Mpro-x0104</td>\n",
       "      <td>0.078375</td>\n",
       "      <td>-30.9106</td>\n",
       "      <td>-3.09106</td>\n",
       "      <td>0.284089</td>\n",
       "      <td>0.024352</td>\n",
       "      <td>0.543826</td>\n",
       "      <td>13</td>\n",
       "      <td>...</td>\n",
       "      <td>1.714203</td>\n",
       "      <td>reliable</td>\n",
       "      <td>-1.546453</td>\n",
       "      <td>reliable</td>\n",
       "      <td>-1.88855</td>\n",
       "      <td>reliable</td>\n",
       "      <td>\"positive\"</td>\n",
       "      <td>reliable</td>\n",
       "      <td>False</td>\n",
       "      <td>True</td>\n",
       "    </tr>\n",
       "    <tr>\n",
       "      <th>2</th>\n",
       "      <td>BrC(Br)=Cc1cncnc1</td>\n",
       "      <td><img data-content=\"rdkit/molecule\" src=\"data:image/png;base64,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\" alt=\"Mol\"/></td>\n",
       "      <td>Mpro-x0104</td>\n",
       "      <td>0.076633</td>\n",
       "      <td>-33.4132</td>\n",
       "      <td>-3.34132</td>\n",
       "      <td>0.317920</td>\n",
       "      <td>0.179804</td>\n",
       "      <td>0.456035</td>\n",
       "      <td>2</td>\n",
       "      <td>...</td>\n",
       "      <td>1.565949</td>\n",
       "      <td>reliable</td>\n",
       "      <td>-1.691761</td>\n",
       "      <td>reliable</td>\n",
       "      <td>-1.88804</td>\n",
       "      <td>reliable</td>\n",
       "      <td>\"positive\"</td>\n",
       "      <td>reliable</td>\n",
       "      <td>False</td>\n",
       "      <td>True</td>\n",
       "    </tr>\n",
       "    <tr>\n",
       "      <th>3</th>\n",
       "      <td>BrC(CCC1CCCCC1)Cc1ccccn1</td>\n",
       "      <td><img data-content=\"rdkit/molecule\" src=\"data:image/png;base64,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\" alt=\"Mol\"/></td>\n",
       "      <td>Mpro-x1249</td>\n",
       "      <td>0.178053</td>\n",
       "      <td>-15.4443</td>\n",
       "      <td>-0.90849</td>\n",
       "      <td>0.434434</td>\n",
       "      <td>0.151883</td>\n",
       "      <td>0.716986</td>\n",
       "      <td>13</td>\n",
       "      <td>...</td>\n",
       "      <td>4.696016</td>\n",
       "      <td>reliable</td>\n",
       "      <td>-4.416978</td>\n",
       "      <td>reliable</td>\n",
       "      <td>-4.29109046302843</td>\n",
       "      <td>reliable</td>\n",
       "      <td>\"negative\"</td>\n",
       "      <td>reliable</td>\n",
       "      <td>False</td>\n",
       "      <td>False</td>\n",
       "    </tr>\n",
       "    <tr>\n",
       "      <th>4</th>\n",
       "      <td>BrC(CCC1CCCCC1)Cc1ccncc1</td>\n",
       "      <td><img data-content=\"rdkit/molecule\" src=\"data:image/png;base64,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\" alt=\"Mol\"/></td>\n",
       "      <td>Mpro-x0678</td>\n",
       "      <td>0.431011</td>\n",
       "      <td>-23.7233</td>\n",
       "      <td>-1.39549</td>\n",
       "      <td>0.308991</td>\n",
       "      <td>0.099810</td>\n",
       "      <td>0.518171</td>\n",
       "      <td>8</td>\n",
       "      <td>...</td>\n",
       "      <td>4.281094</td>\n",
       "      <td>reliable</td>\n",
       "      <td>-3.973919</td>\n",
       "      <td>reliable</td>\n",
       "      <td>-3.69366545084947</td>\n",
       "      <td>reliable</td>\n",
       "      <td>\"negative\"</td>\n",
       "      <td>reliable</td>\n",
       "      <td>False</td>\n",
       "      <td>False</td>\n",
       "    </tr>\n",
       "  </tbody>\n",
       "</table>\n",
       "<p>5 rows × 40 columns</p>\n",
       "</div>"
      ],
      "text/plain": [
       "                    NSMILES  \\\n",
       "0     BrC(Br)=Cc1ccc(Br)cc1   \n",
       "1         BrC(Br)=Cc1ccncn1   \n",
       "2         BrC(Br)=Cc1cncnc1   \n",
       "3  BrC(CCC1CCCCC1)Cc1ccccn1   \n",
       "4  BrC(CCC1CCCCC1)Cc1ccncc1   \n",
       "\n",
       "                                            Molecule      Target  \\\n",
       "0  <img data-content=\"rdkit/molecule\" src=\"data:i...  Mpro-x0678   \n",
       "1  <img data-content=\"rdkit/molecule\" src=\"data:i...  Mpro-x0104   \n",
       "2  <img data-content=\"rdkit/molecule\" src=\"data:i...  Mpro-x0104   \n",
       "3  <img data-content=\"rdkit/molecule\" src=\"data:i...  Mpro-x1249   \n",
       "4  <img data-content=\"rdkit/molecule\" src=\"data:i...  Mpro-x0678   \n",
       "\n",
       "   TransFSScore    SCORE  SCORE.norm  Max_SuCOS_Score  \\\n",
       "0      0.162173 -14.4733    -1.31576         0.000000   \n",
       "1      0.078375 -30.9106    -3.09106         0.284089   \n",
       "2      0.076633 -33.4132    -3.34132         0.317920   \n",
       "3      0.178053 -15.4443    -0.90849         0.434434   \n",
       "4      0.431011 -23.7233    -1.39549         0.308991   \n",
       "\n",
       "   Max_SuCOS_FeatureMap_Score  Max_SuCOS_Protrude_Score  Max_SuCOS_Index  ...  \\\n",
       "0                    0.000000                  0.000000                0  ...   \n",
       "1                    0.024352                  0.543826               13  ...   \n",
       "2                    0.179804                  0.456035                2  ...   \n",
       "3                    0.151883                  0.716986               13  ...   \n",
       "4                    0.099810                  0.518171                8  ...   \n",
       "\n",
       "   MSlogP_Regression  MSlogP_Prediction  MSlogS_Regression  MSlogS_Prediction  \\\n",
       "0           3.163015           reliable          -3.555276           reliable   \n",
       "1           1.714203           reliable          -1.546453           reliable   \n",
       "2           1.565949           reliable          -1.691761           reliable   \n",
       "3           4.696016           reliable          -4.416978           reliable   \n",
       "4           4.281094           reliable          -3.973919           reliable   \n",
       "\n",
       "   MSlogVP_Regression  MSlogVP_Prediction  Mutagenicity_Classification  \\\n",
       "0            -2.62715            reliable                   \"positive\"   \n",
       "1            -1.88855            reliable                   \"positive\"   \n",
       "2            -1.88804            reliable                   \"positive\"   \n",
       "3   -4.29109046302843            reliable                   \"negative\"   \n",
       "4   -3.69366545084947            reliable                   \"negative\"   \n",
       "\n",
       "   Mutagenicity_Prediction  cytotox_bool  mutagen_bool  \n",
       "0                 reliable         False          True  \n",
       "1                 reliable         False          True  \n",
       "2                 reliable         False          True  \n",
       "3                 reliable         False         False  \n",
       "4                 reliable         False         False  \n",
       "\n",
       "[5 rows x 40 columns]"
      ]
     },
     "execution_count": 62,
     "metadata": {},
     "output_type": "execute_result"
    }
   ],
   "source": [
    "df_merged_enalos = pd.merge(df, df_enalos, left_on='NSMILES', right_on='Original SMILES')\n",
    "df_merged_enalos.head()"
   ]
  },
  {
   "cell_type": "markdown",
   "metadata": {},
   "source": [
    "TODO - analyse the Enalos data"
   ]
  },
  {
   "cell_type": "markdown",
   "metadata": {},
   "source": [
    "## Incorporate Learning Ligand data"
   ]
  },
  {
   "cell_type": "code",
   "execution_count": 54,
   "metadata": {},
   "outputs": [
    {
     "data": {
      "text/plain": [
       "CHROM.0                                           object\n",
       "CHROM.1                                           object\n",
       "Cum_SuCOS_FeatureMap_Score                        object\n",
       "Cum_SuCOS_Protrude_Score                          object\n",
       "Cum_SuCOS_Score                                   object\n",
       "                                                   ...  \n",
       "score_Target-blindtrainingset_RF-Scorev3-RDKit    object\n",
       "score_Target-blindtrainingset_Vina                object\n",
       "score_Target-blindtrainingset_Vina-RDKit          object\n",
       "ID                                                object\n",
       "Molecule                                          object\n",
       "Length: 78, dtype: object"
      ]
     },
     "execution_count": 54,
     "metadata": {},
     "output_type": "execute_result"
    }
   ],
   "source": [
    "df_learning_ligand = PandasTools.LoadSDF('final_scored_agg.sdf', molColName='Molecule')\n",
    "df_learning_ligand.dtypes"
   ]
  },
  {
   "cell_type": "code",
   "execution_count": 75,
   "metadata": {},
   "outputs": [
    {
     "data": {
      "text/plain": [
       "score_Fulltrainingset_NNScore2.0                  float64\n",
       "score_Fulltrainingset_NNScore2.0-RDKit            float64\n",
       "score_Fulltrainingset_RDKit                       float64\n",
       "score_Fulltrainingset_RF-Score                    float64\n",
       "score_Fulltrainingset_RF-Score-RDKit              float64\n",
       "score_Fulltrainingset_RF-Scorev3                  float64\n",
       "score_Fulltrainingset_RF-Scorev3-RDKit            float64\n",
       "score_Fulltrainingset_Vina                        float64\n",
       "score_Fulltrainingset_Vina-RDKit                  float64\n",
       "score_Target-awaretrainingset_NNScore2.0          float64\n",
       "score_Target-awaretrainingset_NNScore2.0-RDKit    float64\n",
       "score_Target-awaretrainingset_RDKit               float64\n",
       "score_Target-awaretrainingset_RF-Score            float64\n",
       "score_Target-awaretrainingset_RF-Score-RDKit      float64\n",
       "score_Target-awaretrainingset_RF-Scorev3          float64\n",
       "score_Target-awaretrainingset_RF-Scorev3-RDKit    float64\n",
       "score_Target-awaretrainingset_Vina                float64\n",
       "score_Target-awaretrainingset_Vina-RDKit          float64\n",
       "score_Target-blindtrainingset_NNScore2.0          float64\n",
       "score_Target-blindtrainingset_NNScore2.0-RDKit    float64\n",
       "score_Target-blindtrainingset_RDKit               float64\n",
       "score_Target-blindtrainingset_RF-Score            float64\n",
       "score_Target-blindtrainingset_RF-Score-RDKit      float64\n",
       "score_Target-blindtrainingset_RF-Scorev3          float64\n",
       "score_Target-blindtrainingset_RF-Scorev3-RDKit    float64\n",
       "score_Target-blindtrainingset_Vina                float64\n",
       "score_Target-blindtrainingset_Vina-RDKit          float64\n",
       "ID                                                 object\n",
       "dtype: object"
      ]
     },
     "execution_count": 75,
     "metadata": {},
     "output_type": "execute_result"
    }
   ],
   "source": [
    "columns_to_remove = ['CHROM.0', 'CHROM.1', 'RI', 'Rbt.Current_Directory', 'Rbt.Executable', 'Rbt.Library', \n",
    "                     'Rbt.Parameter_File', 'Rbt.Receptor', 'Name', 'SCORE.INTER', 'SCORE.INTER.CONST',\n",
    "                     'SCORE.INTER.POLAR', 'SCORE.INTER.REPUL', 'SCORE.INTER.ROT', 'SCORE.INTER.VDW',\n",
    "                     'SCORE.INTER.norm', 'SCORE.INTRA', 'SCORE.INTRA.DIHEDRAL', 'SCORE.INTRA.DIHEDRAL.0',\n",
    "                     'SCORE.INTRA.POLAR', 'SCORE.INTRA.POLAR.0', 'SCORE.INTRA.REPUL', 'SCORE.INTRA.REPUL.0',\n",
    "                     'SCORE.INTRA.VDW', 'SCORE.INTRA.VDW.0', 'SCORE.INTRA.norm', 'SCORE.RESTR',\n",
    "                     'SCORE.RESTR.norm', 'SCORE.SYSTEM', 'SCORE.SYSTEM.CONST', 'SCORE.SYSTEM.DIHEDRAL',\n",
    "                     'SCORE.SYSTEM.POLAR', 'SCORE.SYSTEM.REPUL', 'SCORE.SYSTEM.VDW', 'SCORE.heavy',\n",
    "                     'SCORE.SYSTEM.norm', 'TransFSReceptor', 'Name', 'Max_SuCOS_Cluster',\n",
    "                     'Cum_SuCOS_FeatureMap_Score', 'Cum_SuCOS_Protrude_Score', 'Cum_SuCOS_Score',\n",
    "                     'Max_SuCOS_FeatureMap_Score', 'Max_SuCOS_Index', 'Max_SuCOS_Protrude_Score',\n",
    "                     'Max_SuCOS_Score', 'Protein_Target', 'SCORE', 'SCORE.norm', 'TransFSScore', 'Molecule'\n",
    "                    ]\n",
    "df_learning_ligand2 = df_learning_ligand.drop(columns=columns_to_remove)\n",
    "\n",
    "df_learning_ligand2 = df_learning_ligand2.astype(dtype= {\n",
    "    \"score_Fulltrainingset_NNScore2.0\":\"float64\",\n",
    "    \"score_Fulltrainingset_NNScore2.0-RDKit\":\"float64\",\n",
    "    \"score_Fulltrainingset_RDKit\":\"float64\",\n",
    "    \"score_Fulltrainingset_RF-Score\":\"float64\",\n",
    "    \"score_Fulltrainingset_RF-Score-RDKit\":\"float64\",\n",
    "    \"score_Fulltrainingset_RF-Scorev3\":\"float64\",\n",
    "    \"score_Fulltrainingset_RF-Scorev3-RDKit\":\"float64\",\n",
    "    \"score_Fulltrainingset_Vina\":\"float64\",\n",
    "    \"score_Fulltrainingset_Vina-RDKit\":\"float64\",\n",
    "    \"score_Target-awaretrainingset_NNScore2.0\":\"float64\",\n",
    "    \"score_Target-awaretrainingset_NNScore2.0-RDKit\":\"float64\",\n",
    "    \"score_Target-awaretrainingset_RDKit\":\"float64\",\n",
    "    \"score_Target-awaretrainingset_RF-Score\":\"float64\",\n",
    "    \"score_Target-awaretrainingset_RF-Score-RDKit\":\"float64\",\n",
    "    \"score_Target-awaretrainingset_RF-Scorev3\":\"float64\",\n",
    "    \"score_Target-awaretrainingset_RF-Scorev3-RDKit\":\"float64\",\n",
    "    \"score_Target-awaretrainingset_Vina\":\"float64\",\n",
    "    \"score_Target-awaretrainingset_Vina-RDKit\":\"float64\",\n",
    "    \"score_Target-blindtrainingset_NNScore2.0\":\"float64\",\n",
    "    \"score_Target-blindtrainingset_NNScore2.0-RDKit\":\"float64\",\n",
    "    \"score_Target-blindtrainingset_RDKit\":\"float64\",\n",
    "    \"score_Target-blindtrainingset_RF-Score\":\"float64\",\n",
    "    \"score_Target-blindtrainingset_RF-Score-RDKit\":\"float64\",\n",
    "    \"score_Target-blindtrainingset_RF-Scorev3\":\"float64\",\n",
    "    \"score_Target-blindtrainingset_RF-Scorev3-RDKit\":\"float64\",\n",
    "    \"score_Target-blindtrainingset_Vina\":\"float64\",\n",
    "    \"score_Target-blindtrainingset_Vina-RDKit\":\"float64\"\n",
    "})\n",
    "\n",
    "df_learning_ligand2.dtypes"
   ]
  },
  {
   "cell_type": "code",
   "execution_count": 76,
   "metadata": {},
   "outputs": [
    {
     "data": {
      "text/html": [
       "<div>\n",
       "<style scoped>\n",
       "    .dataframe tbody tr th:only-of-type {\n",
       "        vertical-align: middle;\n",
       "    }\n",
       "\n",
       "    .dataframe tbody tr th {\n",
       "        vertical-align: top;\n",
       "    }\n",
       "\n",
       "    .dataframe thead th {\n",
       "        text-align: right;\n",
       "    }\n",
       "</style>\n",
       "<table border=\"1\" class=\"dataframe\">\n",
       "  <thead>\n",
       "    <tr style=\"text-align: right;\">\n",
       "      <th></th>\n",
       "      <th>NSMILES</th>\n",
       "      <th>Molecule</th>\n",
       "      <th>Target</th>\n",
       "      <th>TransFSScore</th>\n",
       "      <th>SCORE</th>\n",
       "      <th>SCORE.norm</th>\n",
       "      <th>Max_SuCOS_Score</th>\n",
       "      <th>Max_SuCOS_FeatureMap_Score</th>\n",
       "      <th>Max_SuCOS_Protrude_Score</th>\n",
       "      <th>Max_SuCOS_Index</th>\n",
       "      <th>...</th>\n",
       "      <th>score_Target-awaretrainingset_Vina-RDKit</th>\n",
       "      <th>score_Target-blindtrainingset_NNScore2.0</th>\n",
       "      <th>score_Target-blindtrainingset_NNScore2.0-RDKit</th>\n",
       "      <th>score_Target-blindtrainingset_RDKit</th>\n",
       "      <th>score_Target-blindtrainingset_RF-Score</th>\n",
       "      <th>score_Target-blindtrainingset_RF-Score-RDKit</th>\n",
       "      <th>score_Target-blindtrainingset_RF-Scorev3</th>\n",
       "      <th>score_Target-blindtrainingset_RF-Scorev3-RDKit</th>\n",
       "      <th>score_Target-blindtrainingset_Vina</th>\n",
       "      <th>score_Target-blindtrainingset_Vina-RDKit</th>\n",
       "    </tr>\n",
       "  </thead>\n",
       "  <tbody>\n",
       "    <tr>\n",
       "      <th>0</th>\n",
       "      <td>BrC(Br)=Cc1ccc(Br)cc1</td>\n",
       "      <td><img data-content=\"rdkit/molecule\" src=\"data:image/png;base64,iVBORw0KGgoAAAANSUhEUgAAAMgAAADICAIAAAAiOjnJAAAABmJLR0QA/wD/AP+gvaeTAAAbhklEQVR4nO2deVxTR9fHTxb2sEQRBBERcEEBF0TUtu5Ua6uopS5oH7VPERAR8XGvikurVtuKCypWpaLgWxTEWq2yFKlWRMAFBZVdEZBFlkAC2e59/7g1VcJO7r0Jme+nf4TM5JyTj7/OTObOnMPAcRwQCEXDpDsARPcECQtBCkhYCFJAwkKQApvuABBKREzQ6kcJkcRrbY6hmbXDlCWb+gwc0QlTaMRCvIeZjYPvsb98j/214JtQBpN5LtBDIhLKd5NKxK3bQSMW4j3YmtrGFrYAYGxhO4ERELpxTk3ZS+O+AwDgXKAH19RSIhJmp8YZW9gu+z6mNTsUxYtQNYSCuoyb0RyuiZGppezN+3HnZ3h999nKfVKJqPWPI2Eh3qPoWdq3c60AQCoW6Rn1WrgllK2pJWvtO3iU0/TFAMBia7RuBwkL8R5m1vZz1wYDgJDPux93/vyupZ4/XTM0sSBaTfoNbqcdtHhHvAexxjK2sO0zaORM330AkH4j/J1WrZY/+h5IWIjWwAGXiBo78UE0FSLeQyJqrHyVC2+nQgGvauBo107YQcJCvEdp3uNgn/EAoKnDMbawnbfxhJXDuE7YYaBjM4gmXDmyLiMxys3/J/vxszttBK2xEO9RkvPwQex5HJP2trbvih0kLMS/4Dh27fg3OI6Nm+tD7L93GiQsxL+kXj1TnP3AsFefj75Y1UVTSFiIf+DXVCSe+x4APvH6VkNbt4vWkLAQ/xB7elcjn2czcuIgl2ldt4aEhQAAeJl1L+NmFFtT+1OfPQoxiISFAEwquXZ8M+D4h1+s5PbupxCbSFgISPntZFlBFtfM6oO5voqyiYSl7tRXlyf9GgQAn3jubP8z5jZBwlJ3rp/YJuTz7MbNGOA8VYFmkbDUmvyHtzJv/6ahpfPxfwMVaxkJS32RSsR/hHwDABMWrDEy6atY40hY6sud6KOVr3J79rEe4+apcONIWGpKbUXxrQuHAeDTFXtZGpoKt4+Epab8EfKNuFHgMGFOf8cPybCPhKWO5KYnPk+J1dThuH61jSQXSFhqh0TUeO34ZgCYvHi9fg9TkrwgYakdNy8eq379wtTKzvnTpeR5QcJSL3Jzc7/w3flCy/HTFXuZLBJvPCBhqRf+/v41NTVgYN7XzplUR+gyhRoRFRXl7u7O5XKfPXtmYmJCqi80YqkLAoFg7dq1ALB7926yVQVIWOrDjh07CgsLnZycPD0Vv88uD5oK1YLs7GxHR0exWHznzh0XFxcKPKIRSy3w8fERCoXLly+nRlWARix1ICIiYtGiRT179nz27JmxsTE1TtGI1c2pq6tbt24dAOzfv58yVQESVrdn69atJSUl48aNW7p0KZV+0VRINS9fvszOzgYAHo8nlUoBoKGhobGxEQDEYnF9fT3Rrbq6mnhRV1cnkUje7SaRSOrq6ohWW1vbY8eOteTryZMnI0eOxDAsLS1t+PDhJH4rOVAaI6qJiYnx9/dXlDWRqMUksziOr1y5UiwW+/v7U6wqQMKinv79+0+dOhUA9PX12Ww2AOjo6GhrawMAm83W19cnunG5XOIFh8PR0NAAAG1tbR0dHQBgsVgGBgZEq4WFRUuOQkNDk5KSTE1Nt2/fTt7XaQk0FXZPqqurBw0aVFFRER4e7uHhQX0AaPHePdm0aVNFRcX48eMXLlxISwBoxOqGpKenu7i4MBiM+/fvOzg40BIDGrG6GxiG+fr6SqXS//3vf3SpCtCI1f04duzYihUr+vbtm5WVxeFw6AoD/SpULjAMq62tJV7X1tZiGAYAfD6f2FYQiUR8Pr9JN9l+mEAgqK6uDgoKAoCgoCAaVQVoxCKb0tLSdevWlZWVSaVSHo9HvCmvGKFQKBAIFOLR1ta2rq6upKSEyaRznYNGLBKJjY11c3PjcDiVlZXt/AiTyTQ0NCReGxgYsFgsANDV1dXS0gIATU1NPT09AGAwGEZGRk266ejo4DgeFhZWU1MTFBS0Zs0ahX+j9oNGLLIoKysbPnz469evvby83N3d31WMoaEhMZzIK6brXL9+fcaMGZqamikpKcOGDVOIzc6AI0hAKpUS2+uTJk2SSCQUe/fx8QGAIUOGCAQCil3LQMIihW3btgGAqalpaWkp9d75fP7gwYMBICAggHrvBEhYiicxMZHFYjGZzLi4OLpiSE9P19TUZDAY165doyUAJCwFU1ZWZmZmBgA7duygN5LvvvsOAMzNzSsrK6n3joSlSKRSqaurKwBMmDCB+qWVfDATJ04EgDlz5lDvHQlLkezcuRMATExMiouL6Y4Fx3G8qKiIOH4TGhpKsWskLIWRlJRELK1u3LhBdyz/cvbsWQDQ09PLzs6m0i8SlmIoLy/v06cPAGzZsoXuWJpCnJwZN24clbMzEpYCwDBs5syZADB+/HixWEx3OE2prq7u168fAOzcuZMyp0hYCmDPnj0A0KtXr1evXtEdS/P89ddfLBaLzWYnJydT4xEJq6vcvXtXQ0ODwWD89ttvdMfSGsTtQhsbGx6PR4E7JKwuUVVVRcwyGzdupDuWNhCJRM7OzgDg6elJgTskrM6DYZibmxsAuLi4iEQiusNpm6ysLOKeT2RkJNm+kLA6z/79+wGAy+UWFhbSHUt7OXToEAAYGxuXlJSQ6ggJq5OkpKQQD+NiYmLojqUDYBg2ffp0FosZvCsAwzDyHKHLFJ2hpqZmwYIFIpFozZo1xGyoKjAYjNDQ0EP+sypS/i/191DyHCFhdRgcx7/66quCggJnZ+fdu3fTHU6H6d2795R53gAQ98uu8sKnJHlBwuowhw4dunTpkpGR0a+//qqpqfgqNBQwyGXayI89JCJh1A++EpGQDBdIWB0jLS1tw4YNDAbj9OnT/fv3pzuczjPdc2fPPtblL57djNhPhn0krA5QW1s7f/58oVC4atWqOXPm0B1Ol9DQ1v187VEmW+NO9PGCjNsKt4+E1QF8fHzy8/NHjRr1/fff0x2LAjCzdRw/3x/HsZgD/g11NYo1joTVXoKDg8+fP6+vrx8eHk5crekGjJ+/up/9GF5l6ZUj6xRrGQmrXWRkZBDP2kJCQgYOHEh3OAqDwWDOXh2kpav/9M7VxzejFWgZCatt6uvr582b19DQ4OvrS1dWIPIwMrWc7rkTAK4e31xTXqQos6ohrJqamlZyIpKNt7f38+fPHRwciGc43Y/hU+cP/XCWkM+79KMfjkkVYlMFbkLv2rUrIyPj4sWLXC7XWg4rKytSkxSEhIR4e3tzOJzU1FTisl63pLG+9pjfFF5lyZQlmz90X9l1g8ourCNHjvj5+enp6TU2NhI5VZqgra3dv39/a2vr/m8hXsuydHaFJ0+euLi4CASCs2fPLl68uOsGlZn8h7fOblvAZLK+2ne5z8ARXbSm1MJ69OjRmDFjGhsbw8PDv/jii6KiopKSktLS0vx3KCgoaPYryIY3MzMzc3Nz4rWdnZ2urm47vfP5fGdn56dPny5fvjwkJESh30xJuXEy8O7ln3uYWXkditPU7lIuCeUVVk1NjZOTU35+/sqVKw8fPtxSN6FQWFxcnP8+2dnZskzoTWj/fLpkyZKwsDB7e/uUlJT2y1GlkYpFP6/5pKzwqfOMpTN8uvQYVHmF5e7uHhUVNWzYsOTkZOJ4Wod4/fp1wVuIga2goKCoqKid8+njx48DAwP19PRSU1Pt7OwU8YVUg4qXz08ETJeIRQu3/jLQ2bXTdpRUWAcPHly9erW+vn5aWpoC943EYnE751M9PT0+nx8WFvbll18qyruqkBwTEntqh65hT5/DCRxuJ0tmKqOwUlNTP/roI6FQePHixc8//5wCj/X19bJRraCgIC8v7+bNm3w+/8GDB9TXdKAdHMfObl1Q8Oj2IJdpC7Z09swWeWcIO0d1dTVxamDVqlU0hkFUJaHm3oESwqssPb7KtfDxnU5bUC5hYRg2d+5cABg1alRjYyONkWRnZzMYDF1d3aqqKhrDUF2UKwdpUFBQdHQ0cYaO3ge9AwYMmDx5ckJCwtmzZ1etWkVjJNQTE7T6UUIk8VqbY2hm7TBlyaYO72zRrex/uXfvHnE9ISoqqtkOS5YsCQwMlEql1MRz8eJFABg8eDCplw6UkEsH/EP8P64oyqkoyil8nBy2Zf7eBYPFwmYmEIm4xUtvyiIs2dJq9erVzXYgqvLp6+tTdtdKLBYTtbUSEhKo8agkXDrgf2rdLNmfL57c3f6ZWcXLf5LVnN228PfgDTEHVu/zGHp6vVtLRpTiITT+zvWEZs/QZWRkEMmljx49Stw8pgA2m/31118DQCuVJrs9QkFdxs1oDtfEyNRS9ub9uPMWg53WnHmwaEd4Sx9Uiu2GH3/8ce3atUZGRvfv35c/SF5fXz9q1Kjnz597e3tT/G9cWlrar18/HMcLCwuJLEXqQEzQ6kd/XmCxNQBAKhbpGfVauCW0z6CRROu5QA+JSLh0T1TrRugfse7du7d58+ZWrifITq389NNPJMVQWFi4fv36X3/9tcn7ZmZms2fPlkgkP//8M0mulRMza3vvQ/Heh+K//uH3QS4fn9+1tLb8lazVpF87TnmQOlu3SVVVlZWVFQCsWbOm2Q5HjhwBAA6H8/TpU/LCOHPmDAAMHz5cvunPP/8EADMzM5XIzqAQmqyxcAzbv8ghIWwv8dfZbQtvnGo7by+dIxaO48uWLSssLBw9ejSRYqoJsgPBx48fJ/Us1Pz5801MTB4+fJiSktKkadKkSfb29qWlpZcvXyYvACUHB1wiauzQR+gU1g8//HD58mUul9vszc+6ujriQPCKFSsWLVpEaiRaWlpLly6FFtbpy5cvb6mpuyIRNVa+yq18lVv8/P6V4PUCXtXA0R18IE3OaNo2d+/eJXatLl261GwH4nS5o6MjNXU78vLymEymlpZWeXl5kyYej0fUAH/y5AkFkdDOpQP+2z8zI/7b/cWAEwGfZP39u6y1nVMhPcKSLa3WrVvXbAci246+vv6zZ88oi2rGjBkAsG/fPvkmLy8voPvxpWpBg7DezVcmFArlO6SmphLPc8LDw6kM7MqVKwBgbW0tv7n/6NEjADA0NKyvr6cyJNWFBmHt3bsXALhcLnEKqgnV1dXW1tYA4OfnR3FgUqmU2O9otv7MBx98AAAhISEUR6WiUC2s5ORkIhVss/nKaD/dQKQlmjlzpnzTuXPnAGDYsGHUR6WKUCqsN2/eEA9kNmzY0GyHAwcOAICRkVFeXh6VgcmoqKjQ1tZmMpn5+flNmoRCoampKQD8/ffftMSmWlAnLAzDZs2aBQBjxoxpdrORON0AAC2dbqAGYmtj06ZN8k2bNm0CgMWLF1MflcpBnbCIKmc9evRo9niC7HSDv78/ZSE1y+3btwGgV69e8nPxixcvWCyWpqZmWVkZLbGpEBQJKykpic1mMxiMy5cvy7diGEakm3J2dm72dyLFjBw5sqXfpERpkz179lAflWpBhbBkBYyanV9wHP/xxx+JpZX8yoYWjh8/DgAffvihfNO1a9cAwNLSkvZyhEoO6cKSSqXTpk1rZWkly2sdHR1NdjDthM/nE2X+7t+/36QJw7ABAwYAwJUrV2iJTVUgXVi7du2ClgsYVVVVEUsrGstiN4ufnx8AeHt7yzcRRxFnzJhBfVQqBLnCunnzJpvNZjKZ169fl2/FMGz27NkAMHr0aGVYWr1LVlYWg8HgcDg1NTVNmiorK7W1tRkMRk5ODi2xqQTknm64c+eOVCrdsGEDMRs2ISIiIiYmpkePHpGRkcqW19rOzm7ixIn19fVEhdJ36dmz57x583AcP3nyJC2xqQakynbSpEkAcOHChWZbJRLJli1blLYaW2RkJADY2dnJ39JJTk4GAGNj44aGBlpiU37IFVZQUBAATJkyhVQvJCEWi4kfs4mJifKtTk5OABAWFkZ5XKoBucLi8XhEArSMjAxSHZFEYGAgABATXxOIU/Bjx46lPiqVgPRfhT4+PgCwYsUKsh2RQUlJiYaGBpvNlv9JKxAIevToAQBpaWm0xKbkkH40eeXKlQwGIywsrLa2lmxfCsfMzGzWrFkSieTUqVNNmnR0dP7zn/8AgJok++swFIh38uTJAHDw4EEKfCmc+Ph4ADA3N5ff3c3JyUGJQ1qCCmFFRUUBwIABAyhLu6BYhg4dCi2cuZg6dSoABAUFUR+VkkPFLR03NzcrK6ucnBzi/36Vw9PTk81mZ2VlyTcRK8jg4GBcCS6UKxfU6Jc4M9PsyUzlh8fjNfs8Cn8ncUh8fDzFUSk5FN0rXL58uba29tWrV/Pz86nxqED09fVbStzAZrOXLFkCABEREdQGpexQJCxjY+P58+djGEacSOlO5OTk6OjoEOe0EP9C2diYnp4OAFwul8/nU+aUbE6fPg0A2traDx8+pDsW5YLSyxQuLi4AcPLkSSqdkseTJ0+IwgKhoaF0x6J0UCqssLAw6C43qOrr64cMGQIAHh4edMeijFAqLNkNqlu3blHplwyIbfehQ4d2p5ldgVCabUZTU9PT0xMAgoODqfSrcE6dOhUWFqanpxcZGakmZXY6DMVCLi4u1tDQ0NDQaGlnSPl5/PgxIaZffvmF7liUF6rzY5mbm7u5uYnFYhVNvsjn8+fNmycQCP773/8SO1iI5qFey4mJiQDQu3dvZTvn3h6Imk329vZoadU69OTHcnR0BICIiAhavHeaEydOAICenl5WVhbdsSg79AiL2H//4IMPaPHeOWRLqzNnztAdiwpAj7D4fL5qHb+sq6sjymGqbT2wjkJPcltdXV1i5Xv06FFaAugoPj4+T58+tbe3J66HINqGLkXn5uYymUwdHZ3Kykq6YmgnxMTN4XDQ0qr90JaO28bGZtq0aQ0NDfLHyZWKx48fBwQEAMDRo0fVqjh0V6FR1FevXgWAfv36KW3mlrq6OqJwgZeXF92xqBh0CgvDMKKQeLNJs5QBIrufg4MDNbnmuxOs7du30zVYMhgMsVgcGxv75s2bVorF79+/PyUlpby8XCKRGBgYsNkUVYU9evTo3r17ORxOXFycmZkZNU67DTSXlaupqbGwsBAIBFlZWS1VyzExMamoqJD9yeVyrd9hyJAh9vb2RkZGig0sIyNjzJgxDQ0N586dI7vgSreE/nqFXl5eJ06c8PPzI6pRNAHH8YMHD+a9pbCwUCQSyXfr2bOnjY2Nra2tzVtsbW179+7duZBkFRJ9fHxUZUNE2aBfWJmZmQ4ODhwO59WrV0Sih9aprq7OzMzMysrKf0tOTg6Px5PvqaWl1adPn3fHtqFDh1paWrY5mS5atCgiIsLR0fHu3bs6Ojqd/GLqDf3CAoCJEycmJSUdOXLE19e3cxZKS0vz8vJyc3Pz3uHNmzfyPXV0dGprazU0NFoydeTIET8/Pw6Hk5aWNmjQoM7Fg1AKYV24cGHevHl2dnaZmZkMBkNRZqurq/PlYDKZOTk5LX3k0aNHY8eObWhoCA8P9/DwUFQk6gidP0nfIrv2GRcXR7avVgql8ng8YvvD19eX7DC6PfTXhAYANptNFJs8fPgw2b5amQSXLVuWnZ3t6Oi4f/9+ssPo9ijFVAgApaWllpaWurq6LBbLWo7+/fsrcIpslkOHDvn7++vr66empqKlVdehaLOxTU6ePCmRSCQSCY/HS09PJ263yjAwMGiym2BjY2NhYcFkKmbETUtLW79+PQCEhoYiVSkEpRixkpKSiDylf/zxh7Oz87tr7czMzMzMzJqaGvlPaWpqWlhYNBnb7OzsOnptpqamxsnJKT8/v6W9NEQnoF9Y5eXlI0aMKCkp2bZt244dO5rt0+zvO6KOpnxnLpdLbFnJ1DZw4ECiqLM8OI67u7tHR0ePGjXq9u3bRGVXRNehWVgYhk2fPj0uLm7ChAkJCQksFqv9nxUKhcXFxbKBjdgyffHihVQqle/c5EGQjKCgoICAACMjo/T0dKKyK0Ih0Cys7du379ixw8TE5MGDB+bm5l03KBKJCgoKiA1S2X5pQUGBUCiU72xkZMTn8yUSSVRUFFF+DKEo6BRWYmKiq6srjuPXr193dXUl1ZdsMpWNbbm5ubW1tV5eXpaWlps3bybVuxpCm7DKyspGjBhRWlq6fft2Ip069ZSXl7NYrJ49e9LivXtDj7AwDJs2bVp8fPzEiRPj4+M7tLRCqAT07LwHBgbGx8ebmppGREQgVXVLaBixZEurGzduEOmsEd0Pqnfey8rKPDw8pFLpzp07kaq6MZSOWBiGffzxxwkJCZMmTYqLi0OTYDeG0jXW1q1bExIS0NJKHaBuxEpISJg2bRqO47GxsVOmTKHGKYIuKFpjvX79evHixVKp9Ntvv0WqUgeoGLEkEsnkyZNv3bo1efLk2NhYNAmqA1SssbZu3Xrr1q3evXuHh4cjVakJpAsrOy3xcXI8m82OjIzs9EU/hMpB7lTIqywN8XdtFNQ5un/jtmg5eY4QygaJIxYmlUTt9xHwqqyHfTTL42vyHCGUEBKF9efZvS+z7hkYm81Zc4jBUIrrQAjKIOvfOyct4e/oY0wW+/N1x3QNepDkBaG0kCIsXmVJzAF/wPHJX260HDKaDBcIJUfxwsKkkov7fAS8KlunyePm+ijcPkIlULyw4s/sLnqa+nZpRe4tU4TSomBh5aTGJ8eEMFls9/XH0dJKnVGksHiVJZcO+AOOT1myqa+dswItI1QOhQkLk4gv7vNuqKse4Dx17GxvRZlFqCgKE1bcL98VPU0zMDafE3AQLa0QihFWdmrc3d9+ZrI13Ncf09HnKsQmQqVRgLBqK4pjDqwGHJ+6ZDNaWiEIuios2dJqoLPrGDf0mBnxD10VVmzorlfP0g2MzWcHBKGlFUJGl4SVfS8u5copJlvDff1xtLRCvEvnhVVbURwT5A847rp0S1+7UQqMCdEN6Lywip6miRr4g8d+4jILnbVCNKVLJ0hLch72MLfW1mu7nARC3aA/VSSiW9LavcKYoNWPEiKJ19ocQzNrhylLNvUZOIKSwBCqTRtrLDMbB99jf/ke+2vBN6EMJvNcoIdE1EzORalETE54CFWljZvQbE1tYwtbADC2sJ3ACAjdOKem7KVx3wEAcC7Qg2tqKREJs1PjjC1sl30fQ0W8CBWhvVfshYK6jJvRHK6Jkaml7M37cedneH332cp9UkkzNQQR6kwbwip6lvbtXCsAkIpFeka9Fm4JZWv+mwm97+BRTtMXAwCL3WKBGoR60oawzKzt564NBgAhn3c/7vz5XUs9f7pmaGJBtJr0a77YLgLRxuKdWGMZW9j2GTRypu8+AEi/Ef5OK6rjgGieju2844BLRI0khYLoTrQxFUpEjZWvcuHtVCjgVQ0cTW6mf0T3oA1hleY9DvYZDwCaOhxjC9t5G09YOYyjJDCEaoMe6SBIAeXqQJACEhaCFP4fEvEVXQkK/JoAAAAASUVORK5CYII=\" alt=\"Mol\"/></td>\n",
       "      <td>Mpro-x0678</td>\n",
       "      <td>0.162173</td>\n",
       "      <td>-14.4733</td>\n",
       "      <td>-1.31576</td>\n",
       "      <td>0.000000</td>\n",
       "      <td>0.000000</td>\n",
       "      <td>0.000000</td>\n",
       "      <td>0</td>\n",
       "      <td>...</td>\n",
       "      <td>5.887</td>\n",
       "      <td>5.825</td>\n",
       "      <td>6.209</td>\n",
       "      <td>6.159</td>\n",
       "      <td>5.054</td>\n",
       "      <td>5.996</td>\n",
       "      <td>5.568</td>\n",
       "      <td>5.909</td>\n",
       "      <td>5.930</td>\n",
       "      <td>6.192</td>\n",
       "    </tr>\n",
       "    <tr>\n",
       "      <th>1</th>\n",
       "      <td>BrC(Br)=Cc1ccncn1</td>\n",
       "      <td><img data-content=\"rdkit/molecule\" src=\"data:image/png;base64,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\" alt=\"Mol\"/></td>\n",
       "      <td>Mpro-x0104</td>\n",
       "      <td>0.078375</td>\n",
       "      <td>-30.9106</td>\n",
       "      <td>-3.09106</td>\n",
       "      <td>0.284089</td>\n",
       "      <td>0.024352</td>\n",
       "      <td>0.543826</td>\n",
       "      <td>13</td>\n",
       "      <td>...</td>\n",
       "      <td>5.041</td>\n",
       "      <td>4.625</td>\n",
       "      <td>5.117</td>\n",
       "      <td>5.531</td>\n",
       "      <td>4.148</td>\n",
       "      <td>5.410</td>\n",
       "      <td>4.481</td>\n",
       "      <td>5.336</td>\n",
       "      <td>4.146</td>\n",
       "      <td>5.410</td>\n",
       "    </tr>\n",
       "    <tr>\n",
       "      <th>2</th>\n",
       "      <td>BrC(Br)=Cc1cncnc1</td>\n",
       "      <td><img data-content=\"rdkit/molecule\" src=\"data:image/png;base64,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\" alt=\"Mol\"/></td>\n",
       "      <td>Mpro-x0104</td>\n",
       "      <td>0.076633</td>\n",
       "      <td>-33.4132</td>\n",
       "      <td>-3.34132</td>\n",
       "      <td>0.317920</td>\n",
       "      <td>0.179804</td>\n",
       "      <td>0.456035</td>\n",
       "      <td>2</td>\n",
       "      <td>...</td>\n",
       "      <td>4.950</td>\n",
       "      <td>4.511</td>\n",
       "      <td>5.020</td>\n",
       "      <td>5.602</td>\n",
       "      <td>4.096</td>\n",
       "      <td>5.427</td>\n",
       "      <td>4.499</td>\n",
       "      <td>5.277</td>\n",
       "      <td>4.315</td>\n",
       "      <td>5.401</td>\n",
       "    </tr>\n",
       "    <tr>\n",
       "      <th>3</th>\n",
       "      <td>BrC(CCC1CCCCC1)Cc1ccccn1</td>\n",
       "      <td><img data-content=\"rdkit/molecule\" src=\"data:image/png;base64,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\" alt=\"Mol\"/></td>\n",
       "      <td>Mpro-x1249</td>\n",
       "      <td>0.178053</td>\n",
       "      <td>-15.4443</td>\n",
       "      <td>-0.90849</td>\n",
       "      <td>0.434434</td>\n",
       "      <td>0.151883</td>\n",
       "      <td>0.716986</td>\n",
       "      <td>13</td>\n",
       "      <td>...</td>\n",
       "      <td>5.929</td>\n",
       "      <td>5.406</td>\n",
       "      <td>5.979</td>\n",
       "      <td>6.388</td>\n",
       "      <td>5.840</td>\n",
       "      <td>6.202</td>\n",
       "      <td>5.875</td>\n",
       "      <td>5.905</td>\n",
       "      <td>5.289</td>\n",
       "      <td>5.994</td>\n",
       "    </tr>\n",
       "    <tr>\n",
       "      <th>4</th>\n",
       "      <td>BrC(CCC1CCCCC1)Cc1ccncc1</td>\n",
       "      <td><img data-content=\"rdkit/molecule\" src=\"data:image/png;base64,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\" alt=\"Mol\"/></td>\n",
       "      <td>Mpro-x0678</td>\n",
       "      <td>0.431011</td>\n",
       "      <td>-23.7233</td>\n",
       "      <td>-1.39549</td>\n",
       "      <td>0.308991</td>\n",
       "      <td>0.099810</td>\n",
       "      <td>0.518171</td>\n",
       "      <td>8</td>\n",
       "      <td>...</td>\n",
       "      <td>5.862</td>\n",
       "      <td>5.400</td>\n",
       "      <td>6.090</td>\n",
       "      <td>6.427</td>\n",
       "      <td>5.716</td>\n",
       "      <td>6.271</td>\n",
       "      <td>5.579</td>\n",
       "      <td>6.019</td>\n",
       "      <td>5.356</td>\n",
       "      <td>6.085</td>\n",
       "    </tr>\n",
       "  </tbody>\n",
       "</table>\n",
       "<p>5 rows × 67 columns</p>\n",
       "</div>"
      ],
      "text/plain": [
       "                    NSMILES  \\\n",
       "0     BrC(Br)=Cc1ccc(Br)cc1   \n",
       "1         BrC(Br)=Cc1ccncn1   \n",
       "2         BrC(Br)=Cc1cncnc1   \n",
       "3  BrC(CCC1CCCCC1)Cc1ccccn1   \n",
       "4  BrC(CCC1CCCCC1)Cc1ccncc1   \n",
       "\n",
       "                                            Molecule      Target  \\\n",
       "0  <img data-content=\"rdkit/molecule\" src=\"data:i...  Mpro-x0678   \n",
       "1  <img data-content=\"rdkit/molecule\" src=\"data:i...  Mpro-x0104   \n",
       "2  <img data-content=\"rdkit/molecule\" src=\"data:i...  Mpro-x0104   \n",
       "3  <img data-content=\"rdkit/molecule\" src=\"data:i...  Mpro-x1249   \n",
       "4  <img data-content=\"rdkit/molecule\" src=\"data:i...  Mpro-x0678   \n",
       "\n",
       "   TransFSScore    SCORE  SCORE.norm  Max_SuCOS_Score  \\\n",
       "0      0.162173 -14.4733    -1.31576         0.000000   \n",
       "1      0.078375 -30.9106    -3.09106         0.284089   \n",
       "2      0.076633 -33.4132    -3.34132         0.317920   \n",
       "3      0.178053 -15.4443    -0.90849         0.434434   \n",
       "4      0.431011 -23.7233    -1.39549         0.308991   \n",
       "\n",
       "   Max_SuCOS_FeatureMap_Score  Max_SuCOS_Protrude_Score  Max_SuCOS_Index  ...  \\\n",
       "0                    0.000000                  0.000000                0  ...   \n",
       "1                    0.024352                  0.543826               13  ...   \n",
       "2                    0.179804                  0.456035                2  ...   \n",
       "3                    0.151883                  0.716986               13  ...   \n",
       "4                    0.099810                  0.518171                8  ...   \n",
       "\n",
       "   score_Target-awaretrainingset_Vina-RDKit  \\\n",
       "0                                     5.887   \n",
       "1                                     5.041   \n",
       "2                                     4.950   \n",
       "3                                     5.929   \n",
       "4                                     5.862   \n",
       "\n",
       "   score_Target-blindtrainingset_NNScore2.0  \\\n",
       "0                                     5.825   \n",
       "1                                     4.625   \n",
       "2                                     4.511   \n",
       "3                                     5.406   \n",
       "4                                     5.400   \n",
       "\n",
       "   score_Target-blindtrainingset_NNScore2.0-RDKit  \\\n",
       "0                                           6.209   \n",
       "1                                           5.117   \n",
       "2                                           5.020   \n",
       "3                                           5.979   \n",
       "4                                           6.090   \n",
       "\n",
       "   score_Target-blindtrainingset_RDKit  \\\n",
       "0                                6.159   \n",
       "1                                5.531   \n",
       "2                                5.602   \n",
       "3                                6.388   \n",
       "4                                6.427   \n",
       "\n",
       "   score_Target-blindtrainingset_RF-Score  \\\n",
       "0                                   5.054   \n",
       "1                                   4.148   \n",
       "2                                   4.096   \n",
       "3                                   5.840   \n",
       "4                                   5.716   \n",
       "\n",
       "   score_Target-blindtrainingset_RF-Score-RDKit  \\\n",
       "0                                         5.996   \n",
       "1                                         5.410   \n",
       "2                                         5.427   \n",
       "3                                         6.202   \n",
       "4                                         6.271   \n",
       "\n",
       "   score_Target-blindtrainingset_RF-Scorev3  \\\n",
       "0                                     5.568   \n",
       "1                                     4.481   \n",
       "2                                     4.499   \n",
       "3                                     5.875   \n",
       "4                                     5.579   \n",
       "\n",
       "   score_Target-blindtrainingset_RF-Scorev3-RDKit  \\\n",
       "0                                           5.909   \n",
       "1                                           5.336   \n",
       "2                                           5.277   \n",
       "3                                           5.905   \n",
       "4                                           6.019   \n",
       "\n",
       "   score_Target-blindtrainingset_Vina  \\\n",
       "0                               5.930   \n",
       "1                               4.146   \n",
       "2                               4.315   \n",
       "3                               5.289   \n",
       "4                               5.356   \n",
       "\n",
       "   score_Target-blindtrainingset_Vina-RDKit  \n",
       "0                                     6.192  \n",
       "1                                     5.410  \n",
       "2                                     5.401  \n",
       "3                                     5.994  \n",
       "4                                     6.085  \n",
       "\n",
       "[5 rows x 67 columns]"
      ]
     },
     "execution_count": 76,
     "metadata": {},
     "output_type": "execute_result"
    }
   ],
   "source": [
    "df_merged_learning_ligand = pd.merge(df_merged_enalos, df_learning_ligand2, left_on='NSMILES', right_on='ID')\n",
    "df_merged_learning_ligand = df_merged_learning_ligand.drop(columns=['ID'])\n",
    "df_merged_learning_ligand.head()"
   ]
  },
  {
   "cell_type": "code",
   "execution_count": 77,
   "metadata": {},
   "outputs": [],
   "source": [
    "df_merged = df_merged_learning_ligand"
   ]
  },
  {
   "cell_type": "markdown",
   "metadata": {},
   "source": [
    "# Filtering\n",
    "\n",
    "Here is one approach to filtering.\n",
    "We apply a series of filters to the data to be left with 'top scoring' molecules.\n",
    "Beauty is in the eye of the beholder so try different filters.\n",
    "\n",
    "The filters are applied in series.\n",
    "\n",
    "**DO NOT** take this as an officially approved set of molecules for further consideration. This is work in progress."
   ]
  },
  {
   "cell_type": "code",
   "execution_count": 86,
   "metadata": {},
   "outputs": [
    {
     "data": {
      "text/plain": [
       "(39076, 67)"
      ]
     },
     "execution_count": 86,
     "metadata": {},
     "output_type": "execute_result"
    }
   ],
   "source": [
    "df_merged.shape"
   ]
  },
  {
   "cell_type": "code",
   "execution_count": 87,
   "metadata": {},
   "outputs": [
    {
     "data": {
      "text/plain": [
       "(6317, 67)"
      ]
     },
     "execution_count": 87,
     "metadata": {},
     "output_type": "execute_result"
    }
   ],
   "source": [
    "# filter by TransFS score\n",
    "df_merged = df_merged[df_merged['TransFSScore'] >= 0.9]\n",
    "df_merged.shape"
   ]
  },
  {
   "cell_type": "code",
   "execution_count": 88,
   "metadata": {},
   "outputs": [
    {
     "data": {
      "text/plain": [
       "(5734, 67)"
      ]
     },
     "execution_count": 88,
     "metadata": {},
     "output_type": "execute_result"
    }
   ],
   "source": [
    "# filter out molecules that are too flexible\n",
    "df_merged = df_merged[df_merged[\"rotb\"] <= 6]\n",
    "df_merged.shape"
   ]
  },
  {
   "cell_type": "code",
   "execution_count": 89,
   "metadata": {},
   "outputs": [
    {
     "data": {
      "text/plain": [
       "(2256, 67)"
      ]
     },
     "execution_count": 89,
     "metadata": {},
     "output_type": "execute_result"
    }
   ],
   "source": [
    "# filter by SuCOS score. Here we use Cum_SuCOS_Score but also consider using the 5 other SuCOS scores.\n",
    "df_merged = df_merged[df_merged[\"Cum_SuCOS_Score\"] >= 3]\n",
    "df_merged.shape"
   ]
  },
  {
   "cell_type": "code",
   "execution_count": 90,
   "metadata": {},
   "outputs": [
    {
     "data": {
      "text/plain": [
       "(1842, 67)"
      ]
     },
     "execution_count": 90,
     "metadata": {},
     "output_type": "execute_result"
    }
   ],
   "source": [
    "# filter by normalised docking score. We use a pretty loose filter here as we know docking scores are not \n",
    "# that reliable, but we might as well throw out the ones that docking says are really bad. \n",
    "df_merged = df_merged[df_merged[\"SCORE.norm\"] <= -1.0]\n",
    "df_merged.shape"
   ]
  },
  {
   "cell_type": "code",
   "execution_count": 91,
   "metadata": {},
   "outputs": [
    {
     "data": {
      "text/plain": [
       "(1431, 67)"
      ]
     },
     "execution_count": 91,
     "metadata": {},
     "output_type": "execute_result"
    }
   ],
   "source": [
    "# remove molecules that are predicted to be cytotoxic and that prediction is reliaable\n",
    "df_merged = df_merged[df_merged[\"cytotox_bool\"] == False]\n",
    "df_merged.shape"
   ]
  },
  {
   "cell_type": "code",
   "execution_count": 92,
   "metadata": {},
   "outputs": [
    {
     "data": {
      "text/plain": [
       "(1263, 67)"
      ]
     },
     "execution_count": 92,
     "metadata": {},
     "output_type": "execute_result"
    }
   ],
   "source": [
    "# remove molecules that are predicted to be mutagenic and that prediction is reliaable\n",
    "df_merged = df_merged[df_merged[\"mutagen_bool\"] == False]\n",
    "df_merged.shape"
   ]
  },
  {
   "cell_type": "code",
   "execution_count": 93,
   "metadata": {},
   "outputs": [
    {
     "data": {
      "text/plain": [
       "(1063, 67)"
      ]
     },
     "execution_count": 93,
     "metadata": {},
     "output_type": "execute_result"
    }
   ],
   "source": [
    "# remove molecules with score_Target-awaretrainingset_RF-Scorev3-RDKit\n",
    "df_merged = df_merged[df_merged['score_Target-awaretrainingset_RF-Scorev3-RDKit'] > 5]\n",
    "df_merged.shape"
   ]
  },
  {
   "cell_type": "markdown",
   "metadata": {},
   "source": [
    "We end up with 1063 molecules for further consideration.\n",
    "\n",
    "As already mentioned, don't treat this as the definitve set of molecules to consider. It is just one way of going about it. "
   ]
  }
 ],
 "metadata": {
  "kernelspec": {
   "display_name": "Python 3",
   "language": "python",
   "name": "python3"
  },
  "language_info": {
   "codemirror_mode": {
    "name": "ipython",
    "version": 3
   },
   "file_extension": ".py",
   "mimetype": "text/x-python",
   "name": "python",
   "nbconvert_exporter": "python",
   "pygments_lexer": "ipython3",
   "version": "3.8.2"
  }
 },
 "nbformat": 4,
 "nbformat_minor": 4
}
